{
 "cells": [
  {
   "cell_type": "markdown",
   "metadata": {},
   "source": [
    "## Cervical Cancer Behavior Risk"
   ]
  },
  {
   "cell_type": "markdown",
   "metadata": {},
   "source": [
    "The dataset contains 19 attributes regarding ca cervix behavior risk with class label is ca_cervix with 1 and 0 as values which means the respondent with and without ca cervix, respectively."
   ]
  },
  {
   "cell_type": "code",
   "execution_count": 209,
   "metadata": {},
   "outputs": [],
   "source": [
    "import pandas as pd\n",
    "import matplotlib.pyplot as plt\n",
    "import numpy as np\n",
    "import copy, math\n",
    "from sklearn.preprocessing import PolynomialFeatures\n",
    "from sklearn.preprocessing import StandardScaler\n"
   ]
  },
  {
   "cell_type": "code",
   "execution_count": 210,
   "metadata": {},
   "outputs": [],
   "source": [
    "# Load data from .data file \n",
    "data = pd.read_csv('./cervical+cancer+behavior+risk/sobar-72.csv')"
   ]
  },
  {
   "cell_type": "code",
   "execution_count": 211,
   "metadata": {},
   "outputs": [],
   "source": [
    "#  Calculating the percentage of correctly classified examples\n",
    "# \n",
    "def PercentCorrect(Inputs, targets, weights):\n",
    "    N = len(targets)\n",
    "    nCorrect = 0\n",
    "    for n in range(N):\n",
    "        OneInput = Inputs[n,:]\n",
    "        if (targets[n]*np.dot(OneInput, weights) > 0):\n",
    "            nCorrect += 1 \n",
    "    return 100*nCorrect/N "
   ]
  },
  {
   "cell_type": "code",
   "execution_count": 212,
   "metadata": {},
   "outputs": [
    {
     "name": "stdout",
     "output_type": "stream",
     "text": [
      "(72,)\n",
      "(36, 19) (36,) (36, 19) (36,)\n"
     ]
    }
   ],
   "source": [
    "# Prepare data set as we want and devide to train and test sets\n",
    "\n",
    "targets = []\n",
    "targets = data.iloc[:, 19].values\n",
    "print(targets.shape)\n",
    "\n",
    "for i in range(len(targets)):\n",
    "    if(targets[i] == 0):\n",
    "        targets[i] = -1\n",
    "\n",
    "X = data.iloc[:, 0:18+1]\n",
    "\n",
    "NumDataPerClass = 36\n",
    "\n",
    "rIndex = np.random.permutation(X.shape[0])  # Shuffle row indices\n",
    "Xr = X.iloc[rIndex]  # Shuffle rows of X\n",
    "yr = targets[rIndex]  # Corresponding labels after shuffling\n",
    "\n",
    "X_train = Xr[0:NumDataPerClass]\n",
    "y_train = yr[0:NumDataPerClass]\n",
    "X_test = Xr[NumDataPerClass:2*NumDataPerClass]\n",
    "y_test = yr[NumDataPerClass:2*NumDataPerClass]\n",
    "print(X_train.shape, y_train.shape, X_test.shape, y_test.shape)\n",
    "\n",
    "Ntrain = NumDataPerClass\n",
    "Ntest = NumDataPerClass\n",
    "\n",
    "X_train = X_train.values\n",
    "X_test = X_test.values\n",
    "\n",
    "\n",
    "# Create a StandardScaler object\n",
    "scaler = StandardScaler()\n",
    "\n",
    "# Fit the scaler to your training data (learn mean and standard deviation)\n",
    "X_train_scaled = scaler.fit_transform(X_train)\n",
    "# print(X_train_scaled)\n",
    "\n",
    "# Apply the scaling to your test data (using the parameters learned from training data)\n",
    "X_test_scaled = scaler.transform(X_test)\n",
    "# print(X_test_scaled)\n"
   ]
  },
  {
   "cell_type": "code",
   "execution_count": 213,
   "metadata": {},
   "outputs": [
    {
     "name": "stdout",
     "output_type": "stream",
     "text": [
      "Initial Percentage Correct:  44.44\n"
     ]
    }
   ],
   "source": [
    "# Random initialization of weights\n",
    "w = np.random.randn(19)\n",
    "\n",
    "# What is the performance with the initial random weights?\n",
    "print('Initial Percentage Correct: %6.2f' %(PercentCorrect(X_train_scaled, y_train, w)))\n"
   ]
  },
  {
   "cell_type": "code",
   "execution_count": 214,
   "metadata": {},
   "outputs": [],
   "source": [
    "def sigmoid(z):\n",
    "\n",
    "    # g = 1/(1+np.exp(-z))\n",
    "    \n",
    "    # Clip the output of the sigmoid function to avoid numerical instability\n",
    "    g = np.clip(1 / (1 + np.exp(-z)), 1e-15, 1 - 1e-15)\n",
    "   \n",
    "    return g"
   ]
  },
  {
   "cell_type": "code",
   "execution_count": 215,
   "metadata": {},
   "outputs": [],
   "source": [
    "def compute_gradient_logistic(X, y, w, b, lambda_): \n",
    "        \n",
    "    m,n = X.shape\n",
    "    dj_dw = np.zeros((n,))                           #(n,)\n",
    "    dj_db = 0.\n",
    "    \n",
    "    for i in range(m):\n",
    "        z = np.dot(X[i],w) + b\n",
    "        f_wb_i = sigmoid(z)\n",
    "        err_i = f_wb_i - y[i]\n",
    "        for j in range(n):\n",
    "            dj_dw[j] = dj_dw[j] + err_i * X[i,j] \n",
    "        dj_db = dj_db + err_i\n",
    "    dj_dw = dj_dw/m\n",
    "    dj_db = dj_db/m\n",
    "    \n",
    "    for j in range(n):\n",
    "        dj_dw[j] = dj_dw[j] + (lambda_/m)*w[j]\n",
    "    \n",
    "    return dj_db, dj_dw"
   ]
  },
  {
   "cell_type": "code",
   "execution_count": 216,
   "metadata": {},
   "outputs": [],
   "source": [
    "def compute_cost_logistic(X, y, w, b, lambda_ = 1.5):\n",
    "    m,n  = X.shape\n",
    "    cost = 0.0\n",
    "    for i in range(m):\n",
    "        z_i = np.dot(X[i],w) + b\n",
    "        f_wb_i = sigmoid(z_i)\n",
    "        cost +=  -y[i]*np.log(f_wb_i) - (1-y[i])*np.log(1-f_wb_i)         \n",
    "    cost = cost / m\n",
    "    \n",
    "    reg_cost = 0\n",
    "    for j in range(n):\n",
    "        reg_cost += (w[j]**2)                                          #scalar\n",
    "    reg_cost = (lambda_/(2*m)) * reg_cost                              #scalar\n",
    "    \n",
    "    total_cost = cost + reg_cost                                       #scalar\n",
    "    return total_cost"
   ]
  },
  {
   "cell_type": "code",
   "execution_count": 217,
   "metadata": {},
   "outputs": [],
   "source": [
    "def gradient_descent(X, y, w_in, b_in, alpha, num_iters, lambda_):\n",
    "    # An array to store cost J and w's at each iteration primarily for graphing later\n",
    "    J_history = []\n",
    "    w = copy.deepcopy(w_in)  #avoid modifying global w within function\n",
    "    b = b_in \n",
    "    \n",
    "    for i in range(num_iters):\n",
    "        \n",
    "        dj_db, dj_dw = compute_gradient_logistic(X, y, w, b, lambda_)\n",
    "        \n",
    "        w = w - alpha * dj_dw\n",
    "        b = b - alpha * dj_db \n",
    "        \n",
    "        # Save cost J at each iteration\n",
    "        J_history.append( compute_cost_logistic(X, y, w, b) )\n",
    "        \n",
    "        if i% math.ceil(num_iters / 10) == 0:\n",
    "            print(f\"Iteration {i:4d}: Cost {J_history[-1]}   \")\n",
    "    \n",
    "    return w, b, J_history  \n"
   ]
  },
  {
   "cell_type": "code",
   "execution_count": 218,
   "metadata": {},
   "outputs": [
    {
     "name": "stdout",
     "output_type": "stream",
     "text": [
      "Iteration    0: Cost 0.5237330803090755   \n"
     ]
    },
    {
     "name": "stdout",
     "output_type": "stream",
     "text": [
      "Iteration  200: Cost -12.093404188629405   \n",
      "Iteration  400: Cost -15.467528152504288   \n",
      "Iteration  600: Cost -16.358051220006395   \n",
      "Iteration  800: Cost -16.908036002578356   \n",
      "Iteration 1000: Cost -17.238129914950125   \n",
      "Iteration 1200: Cost -17.37968334919296   \n",
      "Iteration 1400: Cost -17.154917995665777   \n",
      "Iteration 1600: Cost -16.659894969888377   \n"
     ]
    },
    {
     "name": "stderr",
     "output_type": "stream",
     "text": [
      "C:\\Users\\User\\AppData\\Local\\Temp\\ipykernel_17132\\3919815716.py:6: RuntimeWarning: overflow encountered in exp\n",
      "  g = np.clip(1 / (1 + np.exp(-z)), 1e-15, 1 - 1e-15)\n"
     ]
    },
    {
     "name": "stdout",
     "output_type": "stream",
     "text": [
      "Iteration 1800: Cost -15.984178366660815   \n",
      "\n",
      "updated parameters: w:[-1.19838566 -0.26880962  0.2784805  ... -0.08599835  0.02548317\n",
      "  0.45743047], b:-1.2492307024123819\n",
      "Percentage Correct After Training:  97.22  83.33\n"
     ]
    }
   ],
   "source": [
    "poly_features = PolynomialFeatures(degree=3)\n",
    "\n",
    "# Fit and transform the training data\n",
    "X_train_poly = poly_features.fit_transform(X_train_scaled)\n",
    "\n",
    "# Transform the test data using the same transformation learned from the training data\n",
    "X_test_poly = poly_features.transform(X_test_scaled)\n",
    "\n",
    "\n",
    "w_tmp  = np.zeros_like(X_train_poly[0])\n",
    "b_tmp  = 0.\n",
    "alph = 0.001\n",
    "iters = 2000\n",
    "lambda_tmp = 1.5\n",
    "\n",
    "w_out, b_out, _ = gradient_descent(X_train_poly, y_train, w_tmp, b_tmp, alph, iters, lambda_tmp) \n",
    "print(f\"\\nupdated parameters: w:{w_out}, b:{b_out}\")\n",
    "\n",
    "print('Percentage Correct After Training: %6.2f %6.2f'%(PercentCorrect(X_train_poly, y_train, w_out), PercentCorrect(X_test_poly, y_test, w_out)))"
   ]
  }
 ],
 "metadata": {
  "kernelspec": {
   "display_name": "Python 3",
   "language": "python",
   "name": "python3"
  },
  "language_info": {
   "codemirror_mode": {
    "name": "ipython",
    "version": 3
   },
   "file_extension": ".py",
   "mimetype": "text/x-python",
   "name": "python",
   "nbconvert_exporter": "python",
   "pygments_lexer": "ipython3",
   "version": "3.12.1"
  }
 },
 "nbformat": 4,
 "nbformat_minor": 2
}
