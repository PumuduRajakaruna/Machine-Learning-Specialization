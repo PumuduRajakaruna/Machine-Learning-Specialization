{
 "cells": [
  {
   "cell_type": "code",
   "execution_count": 2,
   "metadata": {},
   "outputs": [],
   "source": [
    "import pandas as pd\n",
    "import matplotlib.pyplot as plt\n",
    "import numpy as np\n",
    "import copy, math"
   ]
  },
  {
   "cell_type": "code",
   "execution_count": 3,
   "metadata": {},
   "outputs": [],
   "source": [
    "# Load data from .data file \n",
    "data = pd.read_csv('./cervical+cancer+behavior+risk/sobar-72.csv')"
   ]
  },
  {
   "cell_type": "code",
   "execution_count": 4,
   "metadata": {},
   "outputs": [],
   "source": [
    "#  Calculating the percentage of correctly classified examples\n",
    "# \n",
    "def PercentCorrect(Inputs, targets, weights):\n",
    "    N = len(targets)\n",
    "    nCorrect = 0\n",
    "    for n in range(N):\n",
    "        OneInput = Inputs[n,:]\n",
    "        if (targets[n]*np.dot(OneInput, weights) > 0):\n",
    "            nCorrect += 1 \n",
    "    return 100*nCorrect/N "
   ]
  },
  {
   "cell_type": "code",
   "execution_count": 21,
   "metadata": {},
   "outputs": [
    {
     "name": "stdout",
     "output_type": "stream",
     "text": [
      "(72,)\n",
      "(36, 19) (36,) (36, 19) (36,)\n"
     ]
    }
   ],
   "source": [
    "# Prepare data set as we want and devide to train and test sets\n",
    "\n",
    "targets = []\n",
    "targets = data.iloc[:, 19].values\n",
    "print(targets.shape)\n",
    "\n",
    "for i in range(len(targets)):\n",
    "    if(targets[i] == 0):\n",
    "        targets[i] = -1\n",
    "\n",
    "X = data.iloc[:, 0:18+1]\n",
    "\n",
    "NumDataPerClass = 36\n",
    "\n",
    "rIndex = np.random.permutation(X.shape[0])  # Shuffle row indices\n",
    "Xr = X.iloc[rIndex]  # Shuffle rows of X\n",
    "yr = targets[rIndex]  # Corresponding labels after shuffling\n",
    "\n",
    "X_train = Xr[0:NumDataPerClass]\n",
    "y_train = yr[0:NumDataPerClass]\n",
    "X_test = Xr[NumDataPerClass:2*NumDataPerClass]\n",
    "y_test = yr[NumDataPerClass:2*NumDataPerClass]\n",
    "print(X_train.shape, y_train.shape, X_test.shape, y_test.shape)\n",
    "\n",
    "Ntrain = NumDataPerClass\n",
    "Ntest = NumDataPerClass\n",
    "\n",
    "X_train = X_train.values\n",
    "X_test = X_test.values\n",
    "\n",
    "\n",
    "from sklearn.preprocessing import StandardScaler\n",
    "\n",
    "# Create a StandardScaler object\n",
    "scaler = StandardScaler()\n",
    "\n",
    "# Fit the scaler to your training data (learn mean and standard deviation)\n",
    "X_train_scaled = scaler.fit_transform(X_train)\n",
    "# print(X_train_scaled)\n",
    "\n",
    "# Apply the scaling to your test data (using the parameters learned from training data)\n",
    "X_test_scaled = scaler.transform(X_test)\n",
    "# print(X_test_scaled)\n"
   ]
  },
  {
   "cell_type": "code",
   "execution_count": 22,
   "metadata": {},
   "outputs": [
    {
     "name": "stdout",
     "output_type": "stream",
     "text": [
      "Initial Percentage Correct:  22.22\n"
     ]
    }
   ],
   "source": [
    "# Random initialization of weights\n",
    "w = np.random.randn(19)\n",
    "\n",
    "# What is the performance with the initial random weights?\n",
    "print('Initial Percentage Correct: %6.2f' %(PercentCorrect(X_train, y_train, w)))\n"
   ]
  },
  {
   "cell_type": "code",
   "execution_count": 23,
   "metadata": {},
   "outputs": [],
   "source": [
    "def sigmoid(z):\n",
    "\n",
    "    g = 1/(1+np.exp(-z))\n",
    "   \n",
    "    return g"
   ]
  },
  {
   "cell_type": "code",
   "execution_count": 24,
   "metadata": {},
   "outputs": [],
   "source": [
    "def compute_gradient_logistic(X, y, w, b): \n",
    "    \n",
    "    m,n = X.shape\n",
    "    dj_dw = np.zeros((n,))                           #(n,)\n",
    "    dj_db = 0.\n",
    "    \n",
    "    for i in range(m):\n",
    "        z = np.dot(X[i],w) + b\n",
    "        f_wb_i = sigmoid(z)\n",
    "        err_i = f_wb_i - y[i]\n",
    "        for j in range(n):\n",
    "            dj_dw[j] = dj_dw[j] + err_i * X[i,j] \n",
    "        dj_db = dj_db + err_i\n",
    "    dj_dw = dj_dw/m\n",
    "    dj_db = dj_db/m\n",
    "    \n",
    "    return dj_db, dj_dw"
   ]
  },
  {
   "cell_type": "code",
   "execution_count": 25,
   "metadata": {},
   "outputs": [],
   "source": [
    "def compute_cost_logistic(X, y, w, b):\n",
    "    m = X.shape[0]\n",
    "    cost = 0.0\n",
    "    for i in range(m):\n",
    "        z_i = np.dot(X[i],w) + b\n",
    "        f_wb_i = sigmoid(z_i)\n",
    "        cost +=  -y[i]*np.log(f_wb_i) - (1-y[i])*np.log(1-f_wb_i)         \n",
    "    cost = cost / m\n",
    "    return cost"
   ]
  },
  {
   "cell_type": "code",
   "execution_count": 26,
   "metadata": {},
   "outputs": [],
   "source": [
    "def gradient_descent(X, y, w_in, b_in, alpha, num_iters):\n",
    "    # An array to store cost J and w's at each iteration primarily for graphing later\n",
    "    J_history = []\n",
    "    w = copy.deepcopy(w_in)  #avoid modifying global w within function\n",
    "    b = b_in \n",
    "    \n",
    "    for i in range(num_iters):\n",
    "        \n",
    "        dj_db, dj_dw = compute_gradient_logistic(X, y, w, b)\n",
    "        \n",
    "        w = w - alpha * dj_dw\n",
    "        b = b - alpha * dj_db\n",
    "        \n",
    "        # Save cost J at each iteration\n",
    "        J_history.append( compute_cost_logistic(X, y, w, b) )\n",
    "        \n",
    "        if i% math.ceil(num_iters / 10) == 0:\n",
    "            print(f\"Iteration {i:4d}: Cost {J_history[-1]}   \")\n",
    "    \n",
    "    return w, b, J_history  \n"
   ]
  },
  {
   "cell_type": "code",
   "execution_count": 27,
   "metadata": {},
   "outputs": [
    {
     "name": "stdout",
     "output_type": "stream",
     "text": [
      "Iteration    0: Cost -96.60011574074075   \n"
     ]
    },
    {
     "name": "stderr",
     "output_type": "stream",
     "text": [
      "C:\\Users\\User\\AppData\\Local\\Temp\\ipykernel_22124\\2043581088.py:3: RuntimeWarning: overflow encountered in exp\n",
      "  g = 1/(1+np.exp(-z))\n",
      "C:\\Users\\User\\AppData\\Local\\Temp\\ipykernel_22124\\1125150510.py:7: RuntimeWarning: divide by zero encountered in log\n",
      "  cost +=  -y[i]*np.log(f_wb_i) - (1-y[i])*np.log(1-f_wb_i)\n",
      "C:\\Users\\User\\AppData\\Local\\Temp\\ipykernel_22124\\1125150510.py:7: RuntimeWarning: invalid value encountered in scalar add\n",
      "  cost +=  -y[i]*np.log(f_wb_i) - (1-y[i])*np.log(1-f_wb_i)\n"
     ]
    },
    {
     "name": "stdout",
     "output_type": "stream",
     "text": [
      "Iteration 1000: Cost nan   \n",
      "Iteration 2000: Cost nan   \n",
      "Iteration 3000: Cost nan   \n",
      "Iteration 4000: Cost nan   \n",
      "Iteration 5000: Cost nan   \n",
      "Iteration 6000: Cost nan   \n",
      "Iteration 7000: Cost nan   \n",
      "Iteration 8000: Cost nan   \n",
      "Iteration 9000: Cost nan   \n",
      "\n",
      "updated parameters: w:[-3917.15416667 -4945.08888889 -5583.89305556 -3472.62083333\n",
      " -5750.67083333 -2639.24861111 -3361.54305556 -1333.48888889\n",
      " -4805.97083333 -4889.30833333 -3722.48333333 -6278.41388889\n",
      " -5528.30138889 -5750.44027778 -4028.09583333 -6194.99861111\n",
      " -7167.22777778 -6889.38333333 -7000.525     ], b:-388.9388888889118\n"
     ]
    }
   ],
   "source": [
    "w_tmp  = np.zeros_like(X_train[0])\n",
    "b_tmp  = 0.\n",
    "alph = 0.1\n",
    "iters = 10000\n",
    "\n",
    "w_out, b_out, _ = gradient_descent(X_train, y_train, w_tmp, b_tmp, alph, iters) \n",
    "print(f\"\\nupdated parameters: w:{w_out}, b:{b_out}\")"
   ]
  }
 ],
 "metadata": {
  "kernelspec": {
   "display_name": "Python 3",
   "language": "python",
   "name": "python3"
  },
  "language_info": {
   "codemirror_mode": {
    "name": "ipython",
    "version": 3
   },
   "file_extension": ".py",
   "mimetype": "text/x-python",
   "name": "python",
   "nbconvert_exporter": "python",
   "pygments_lexer": "ipython3",
   "version": "3.12.1"
  }
 },
 "nbformat": 4,
 "nbformat_minor": 2
}
